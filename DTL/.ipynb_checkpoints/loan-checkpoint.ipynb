{
 "cells": [
  {
   "cell_type": "code",
   "execution_count": 1,
   "id": "aa9bdf34",
   "metadata": {},
   "outputs": [],
   "source": [
    "import numpy as np\n",
    "import pandas as pd\n",
    "import os\n",
    "from sklearn import tree\n",
    "from sklearn.tree import DecisionTreeClassifier\n",
    "import matplotlib.pyplot as plt"
   ]
  },
  {
   "cell_type": "code",
   "execution_count": 2,
   "id": "f629f865",
   "metadata": {},
   "outputs": [],
   "source": [
    "src_folder = \"data\"\n",
    "data_path = os.path.join(src_folder, \"loan-toy.csv\")"
   ]
  },
  {
   "cell_type": "code",
   "execution_count": 3,
   "id": "4d21ea17",
   "metadata": {},
   "outputs": [],
   "source": [
    "# Read raw data\n",
    "df = pd.read_csv(data_path)"
   ]
  },
  {
   "cell_type": "code",
   "execution_count": 4,
   "id": "3bbddfc3",
   "metadata": {},
   "outputs": [
    {
     "data": {
      "text/html": [
       "<div>\n",
       "<style scoped>\n",
       "    .dataframe tbody tr th:only-of-type {\n",
       "        vertical-align: middle;\n",
       "    }\n",
       "\n",
       "    .dataframe tbody tr th {\n",
       "        vertical-align: top;\n",
       "    }\n",
       "\n",
       "    .dataframe thead th {\n",
       "        text-align: right;\n",
       "    }\n",
       "</style>\n",
       "<table border=\"1\" class=\"dataframe\">\n",
       "  <thead>\n",
       "    <tr style=\"text-align: right;\">\n",
       "      <th></th>\n",
       "      <th>Hemat</th>\n",
       "      <th>Kerja</th>\n",
       "      <th>Penghasilan</th>\n",
       "      <th>Pertemanan</th>\n",
       "      <th>Lunas</th>\n",
       "    </tr>\n",
       "  </thead>\n",
       "  <tbody>\n",
       "    <tr>\n",
       "      <th>0</th>\n",
       "      <td>?</td>\n",
       "      <td>Tidak</td>\n",
       "      <td>Rendah</td>\n",
       "      <td>Jauh</td>\n",
       "      <td>Tidak</td>\n",
       "    </tr>\n",
       "    <tr>\n",
       "      <th>1</th>\n",
       "      <td>Tidak</td>\n",
       "      <td>Tidak</td>\n",
       "      <td>Tinggi</td>\n",
       "      <td>Jauh</td>\n",
       "      <td>Tidak</td>\n",
       "    </tr>\n",
       "    <tr>\n",
       "      <th>2</th>\n",
       "      <td>?</td>\n",
       "      <td>Ya</td>\n",
       "      <td>Tinggi</td>\n",
       "      <td>Jauh</td>\n",
       "      <td>Ya</td>\n",
       "    </tr>\n",
       "    <tr>\n",
       "      <th>3</th>\n",
       "      <td>Ya</td>\n",
       "      <td>Ya</td>\n",
       "      <td>Sedang</td>\n",
       "      <td>Sahabat</td>\n",
       "      <td>Ya</td>\n",
       "    </tr>\n",
       "    <tr>\n",
       "      <th>4</th>\n",
       "      <td>?</td>\n",
       "      <td>Ya</td>\n",
       "      <td>Sedang</td>\n",
       "      <td>Kolega</td>\n",
       "      <td>Ya</td>\n",
       "    </tr>\n",
       "    <tr>\n",
       "      <th>5</th>\n",
       "      <td>Tidak</td>\n",
       "      <td>Ya</td>\n",
       "      <td>Rendah</td>\n",
       "      <td>Sahabat</td>\n",
       "      <td>Tidak</td>\n",
       "    </tr>\n",
       "    <tr>\n",
       "      <th>6</th>\n",
       "      <td>Tidak</td>\n",
       "      <td>Ya</td>\n",
       "      <td>Sedang</td>\n",
       "      <td>Sahabat</td>\n",
       "      <td>Tidak</td>\n",
       "    </tr>\n",
       "    <tr>\n",
       "      <th>7</th>\n",
       "      <td>?</td>\n",
       "      <td>Tidak</td>\n",
       "      <td>Tinggi</td>\n",
       "      <td>Kolega</td>\n",
       "      <td>Tidak</td>\n",
       "    </tr>\n",
       "  </tbody>\n",
       "</table>\n",
       "</div>"
      ],
      "text/plain": [
       "   Hemat  Kerja Penghasilan Pertemanan  Lunas\n",
       "0      ?  Tidak      Rendah       Jauh  Tidak\n",
       "1  Tidak  Tidak      Tinggi       Jauh  Tidak\n",
       "2      ?     Ya      Tinggi       Jauh     Ya\n",
       "3     Ya     Ya      Sedang    Sahabat     Ya\n",
       "4      ?     Ya      Sedang     Kolega     Ya\n",
       "5  Tidak     Ya      Rendah    Sahabat  Tidak\n",
       "6  Tidak     Ya      Sedang    Sahabat  Tidak\n",
       "7      ?  Tidak      Tinggi     Kolega  Tidak"
      ]
     },
     "execution_count": 4,
     "metadata": {},
     "output_type": "execute_result"
    }
   ],
   "source": [
    "df"
   ]
  },
  {
   "cell_type": "code",
   "execution_count": 5,
   "id": "8e62331f",
   "metadata": {},
   "outputs": [
    {
     "data": {
      "text/html": [
       "<div>\n",
       "<style scoped>\n",
       "    .dataframe tbody tr th:only-of-type {\n",
       "        vertical-align: middle;\n",
       "    }\n",
       "\n",
       "    .dataframe tbody tr th {\n",
       "        vertical-align: top;\n",
       "    }\n",
       "\n",
       "    .dataframe thead th {\n",
       "        text-align: right;\n",
       "    }\n",
       "</style>\n",
       "<table border=\"1\" class=\"dataframe\">\n",
       "  <thead>\n",
       "    <tr style=\"text-align: right;\">\n",
       "      <th></th>\n",
       "      <th>Hemat</th>\n",
       "      <th>Kerja</th>\n",
       "      <th>Penghasilan</th>\n",
       "      <th>Pertemanan</th>\n",
       "      <th>Lunas</th>\n",
       "    </tr>\n",
       "  </thead>\n",
       "  <tbody>\n",
       "    <tr>\n",
       "      <th>0</th>\n",
       "      <td>2</td>\n",
       "      <td>0</td>\n",
       "      <td>0</td>\n",
       "      <td>0</td>\n",
       "      <td>0</td>\n",
       "    </tr>\n",
       "    <tr>\n",
       "      <th>1</th>\n",
       "      <td>0</td>\n",
       "      <td>0</td>\n",
       "      <td>2</td>\n",
       "      <td>0</td>\n",
       "      <td>0</td>\n",
       "    </tr>\n",
       "    <tr>\n",
       "      <th>2</th>\n",
       "      <td>2</td>\n",
       "      <td>1</td>\n",
       "      <td>2</td>\n",
       "      <td>0</td>\n",
       "      <td>1</td>\n",
       "    </tr>\n",
       "    <tr>\n",
       "      <th>3</th>\n",
       "      <td>1</td>\n",
       "      <td>1</td>\n",
       "      <td>1</td>\n",
       "      <td>2</td>\n",
       "      <td>1</td>\n",
       "    </tr>\n",
       "    <tr>\n",
       "      <th>4</th>\n",
       "      <td>2</td>\n",
       "      <td>1</td>\n",
       "      <td>1</td>\n",
       "      <td>1</td>\n",
       "      <td>1</td>\n",
       "    </tr>\n",
       "    <tr>\n",
       "      <th>5</th>\n",
       "      <td>0</td>\n",
       "      <td>1</td>\n",
       "      <td>0</td>\n",
       "      <td>2</td>\n",
       "      <td>0</td>\n",
       "    </tr>\n",
       "    <tr>\n",
       "      <th>6</th>\n",
       "      <td>0</td>\n",
       "      <td>1</td>\n",
       "      <td>1</td>\n",
       "      <td>2</td>\n",
       "      <td>0</td>\n",
       "    </tr>\n",
       "    <tr>\n",
       "      <th>7</th>\n",
       "      <td>2</td>\n",
       "      <td>0</td>\n",
       "      <td>2</td>\n",
       "      <td>1</td>\n",
       "      <td>0</td>\n",
       "    </tr>\n",
       "  </tbody>\n",
       "</table>\n",
       "</div>"
      ],
      "text/plain": [
       "   Hemat  Kerja  Penghasilan  Pertemanan  Lunas\n",
       "0      2      0            0           0      0\n",
       "1      0      0            2           0      0\n",
       "2      2      1            2           0      1\n",
       "3      1      1            1           2      1\n",
       "4      2      1            1           1      1\n",
       "5      0      1            0           2      0\n",
       "6      0      1            1           2      0\n",
       "7      2      0            2           1      0"
      ]
     },
     "execution_count": 5,
     "metadata": {},
     "output_type": "execute_result"
    }
   ],
   "source": [
    "# Transfer string into numerical values\n",
    "d = {'?':2, 'Ya':1, 'Tidak':0}\n",
    "df['Hemat'] = df['Hemat'].map(d)\n",
    "\n",
    "d = {'Ya':1, 'Tidak':0}\n",
    "df['Kerja'] = df['Kerja'].map(d)\n",
    "\n",
    "d = {'Rendah':0, 'Sedang':1, 'Tinggi': 2}\n",
    "df['Penghasilan'] = df['Penghasilan'].map(d)\n",
    "\n",
    "d = {'Jauh': 0, 'Kolega':1, 'Sahabat':2}\n",
    "df['Pertemanan'] = df['Pertemanan'].map(d)\n",
    "\n",
    "d = {'Tidak':0, 'Ya':1}\n",
    "df['Lunas'] = df['Lunas'].map(d)\n",
    "\n",
    "df"
   ]
  },
  {
   "cell_type": "code",
   "execution_count": 6,
   "id": "d7a67266",
   "metadata": {},
   "outputs": [],
   "source": [
    "columns = list(df.columns)\n",
    "features = columns[:-1]\n",
    "label = columns[-1:]\n",
    "\n",
    "X = df[features].values\n",
    "y = df[label].values.flatten()"
   ]
  },
  {
   "cell_type": "code",
   "execution_count": 7,
   "id": "3fe69a43",
   "metadata": {},
   "outputs": [],
   "source": [
    "# Train Decision Tree\n",
    "dtree = DecisionTreeClassifier(criterion=\"entropy\")\n",
    "dtree = dtree.fit(X,y)"
   ]
  },
  {
   "cell_type": "code",
   "execution_count": 9,
   "id": "d3be01a5",
   "metadata": {},
   "outputs": [
    {
     "data": {
      "text/plain": [
       "'loan.pdf'"
      ]
     },
     "execution_count": 9,
     "metadata": {},
     "output_type": "execute_result"
    }
   ],
   "source": [
    "import graphviz\n",
    "\n",
    "dot_data = tree.export_graphviz(dtree, out_file=None,\n",
    "    feature_names=features)\n",
    "graph = graphviz.Source(dot_data)\n",
    "\n",
    "\n",
    "graph.render(\"loan\")"
   ]
  },
  {
   "cell_type": "code",
   "execution_count": 10,
   "id": "8e438415",
   "metadata": {},
   "outputs": [],
   "source": [
    "y_pred = dtree.predict(X[0:])"
   ]
  },
  {
   "cell_type": "code",
   "execution_count": 11,
   "id": "080670b6",
   "metadata": {},
   "outputs": [
    {
     "name": "stdout",
     "output_type": "stream",
     "text": [
      "Traininc acc: 100.00, 8 out of 8 are correctly predicted \n"
     ]
    }
   ],
   "source": [
    "num_correct_pred = np.sum(y == y_pred)\n",
    "train_acc = num_correct_pred*100/len(y)\n",
    "print(\"Traininc acc: %.2f, %i out of %i are correctly predicted \" % (train_acc, num_correct_pred, len(y)))"
   ]
  }
 ],
 "metadata": {
  "kernelspec": {
   "display_name": "Python 3 (ipykernel)",
   "language": "python",
   "name": "python3"
  },
  "language_info": {
   "codemirror_mode": {
    "name": "ipython",
    "version": 3
   },
   "file_extension": ".py",
   "mimetype": "text/x-python",
   "name": "python",
   "nbconvert_exporter": "python",
   "pygments_lexer": "ipython3",
   "version": "3.10.5"
  }
 },
 "nbformat": 4,
 "nbformat_minor": 5
}
