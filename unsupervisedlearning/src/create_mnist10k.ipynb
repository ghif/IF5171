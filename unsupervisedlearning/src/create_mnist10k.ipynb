{
 "cells": [
  {
   "cell_type": "code",
   "execution_count": 1,
   "id": "a76bc718-3feb-445e-9f8a-d94df72ad5c5",
   "metadata": {},
   "outputs": [],
   "source": [
    "import os\n",
    "import copy\n",
    "\n",
    "import torch\n",
    "\n",
    "from torchvision import datasets\n",
    "import torchvision.transforms as T"
   ]
  },
  {
   "cell_type": "code",
   "execution_count": 2,
   "id": "013bce14-8c26-4ea0-a6a5-f94b5152263f",
   "metadata": {},
   "outputs": [],
   "source": [
    "DATA_DIR = \"../data\"\n",
    "MODEL_DIR = \"../models\""
   ]
  },
  {
   "cell_type": "code",
   "execution_count": 3,
   "id": "ea9cde1d-eb94-4cd2-8fda-93f72d210130",
   "metadata": {
    "tags": []
   },
   "outputs": [],
   "source": [
    "# Load dataset\n",
    "training_data = datasets.MNIST(\n",
    "    root=DATA_DIR, \n",
    "    train=True, \n",
    "    download=True,\n",
    "    transform=T.ToTensor(), #convert to Tensor and normalize to (0, 1)\n",
    ")\n",
    "\n",
    "test_data = datasets.MNIST(\n",
    "    root=DATA_DIR,\n",
    "    train=False,\n",
    "    download=True,\n",
    "    transform=T.ToTensor(), #convert to Tensor and normalize to (0, 1)\n",
    ")"
   ]
  },
  {
   "cell_type": "markdown",
   "id": "4c22cf25-509a-4476-9a39-1568023f6109",
   "metadata": {},
   "source": [
    "### Take only 10k labeled data"
   ]
  },
  {
   "cell_type": "code",
   "execution_count": 4,
   "id": "bf87c51a-272f-4a9d-9a84-7dd995984686",
   "metadata": {},
   "outputs": [
    {
     "name": "stdout",
     "output_type": "stream",
     "text": [
      "0 1000\n",
      "1 1000\n",
      "2 1000\n",
      "3 1000\n",
      "4 1000\n",
      "5 1000\n",
      "6 1000\n",
      "7 1000\n",
      "8 1000\n",
      "9 1000\n",
      "X shape:  torch.Size([10000, 28, 28])\n",
      "y shape:  torch.Size([10000])\n"
     ]
    }
   ],
   "source": [
    "ns = 1000 #number of samples per class\n",
    "nc = len(training_data.classes)\n",
    "\n",
    "targets = []\n",
    "inputs = []\n",
    "for c in range(nc):\n",
    "    \n",
    "    idx_c = (training_data.targets == c)\n",
    "\n",
    "    targets_c = training_data.targets[idx_c][:ns]\n",
    "    print(c, len(targets_c))\n",
    "    targets.append(targets_c)\n",
    "    \n",
    "    inputs_c = training_data.data[idx_c][:ns]\n",
    "    inputs.append(inputs_c)\n",
    "\n",
    "training_data10k = copy.deepcopy(training_data)\n",
    "\n",
    "X = torch.vstack(inputs)\n",
    "y = torch.vstack(targets).flatten()\n",
    "print(\"X shape: \", X.shape)\n",
    "print(\"y shape: \", y.shape)\n",
    "training_data10k.data = X\n",
    "training_data10k.targets = y\n"
   ]
  },
  {
   "cell_type": "code",
   "execution_count": 5,
   "id": "20a8a3c2-a217-4d28-9772-466055f05374",
   "metadata": {},
   "outputs": [
    {
     "data": {
      "text/plain": [
       "Dataset MNIST\n",
       "    Number of datapoints: 10000\n",
       "    Root location: ../data\n",
       "    Split: Train\n",
       "    StandardTransform\n",
       "Transform: ToTensor()"
      ]
     },
     "execution_count": 5,
     "metadata": {},
     "output_type": "execute_result"
    }
   ],
   "source": [
    "training_data10k"
   ]
  }
 ],
 "metadata": {
  "kernelspec": {
   "display_name": "Python 3 (ipykernel)",
   "language": "python",
   "name": "python3"
  },
  "language_info": {
   "codemirror_mode": {
    "name": "ipython",
    "version": 3
   },
   "file_extension": ".py",
   "mimetype": "text/x-python",
   "name": "python",
   "nbconvert_exporter": "python",
   "pygments_lexer": "ipython3",
   "version": "3.10.5"
  }
 },
 "nbformat": 4,
 "nbformat_minor": 5
}
